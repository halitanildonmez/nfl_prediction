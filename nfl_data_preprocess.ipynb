{
 "cells": [
  {
   "cell_type": "code",
   "execution_count": 1,
   "id": "107c8f95-f1be-4932-955a-d1ff9fbf91c8",
   "metadata": {},
   "outputs": [],
   "source": [
    "import time as t\n",
    "import numpy as np\n",
    "import pandas as pd\n",
    "import re\n",
    "from sklearn.model_selection import train_test_split\n",
    "from sklearn.model_selection import cross_val_score, GridSearchCV"
   ]
  },
  {
   "cell_type": "code",
   "execution_count": 2,
   "id": "e79824d6-67a4-40d4-9c5d-aa539dc93d2f",
   "metadata": {},
   "outputs": [],
   "source": [
    "def all_pros_per_year_per_team(df_all_pro):\n",
    "    return df_all_pro.groupby(['Tm', 'year']).size().reset_index(name='counts')\n",
    "\n",
    "def get_mvp_team_year(df_mvp_data):\n",
    "    df_filt = df_mvp_data.query('Year >= 2000 & Year < 2022')\n",
    "    return df_filt[['Year', 'Tm']]\n",
    "\n",
    "def proc_season(df_season_data):\n",
    "    numeric_cols = list(df_season_copy.columns)[1:]\n",
    "    df_season_data[\"W-L%\"] = df_season_data[\"W-L%\"].apply(convert_percentage)\n",
    "    df_season_data[numeric_cols] = df_season_data[numeric_cols].apply(pd.to_numeric)\n",
    "    df_season_data['Tm'] = df_season_data['Tm'].apply(replace_team)\n",
    "    return df_season_data\n",
    "\n",
    "def proc_season_val(df_season_copy, df_season_data):\n",
    "    numeric_cols = list(df_season_data.columns)[1:]\n",
    "    df_season_data[\"W-L%\"] = df_season_data[\"W-L%\"].apply(convert_percentage)\n",
    "    df_season_data[numeric_cols] = df_season_data[numeric_cols].apply(pd.to_numeric)\n",
    "    df_season_data['division_winner'] = df_season_data['Tm'].str.contains(\"*\", regex=False)\n",
    "    df_season_data['wildcard'] = df_season_data['Tm'].str.contains(\"+\", regex=False)\n",
    "    df_season_data['Tm'] = df_season_data['Tm'].apply(replace_team)\n",
    "    return df_season_data\n",
    "\n",
    "def replace_team(val):\n",
    "    return val.replace('*', '').replace('+', '')\n",
    "\n",
    "def convert_percentage(val):\n",
    "    return '0' + str(val)\n",
    "\n",
    "def proc_team_name(t):\n",
    "    new_str = re.sub(r'[\\W_]', '', t)\n",
    "    return new_str.lower()\n",
    "\n",
    "def fix_team_names(t):\n",
    "    if 'oaklandraiders' in t:\n",
    "        return 'lasvegasraiders'\n",
    "    if 'sandiegochargers' in t:\n",
    "        return 'losangeleschargers'\n",
    "    if 'stlouisrams' in t:\n",
    "        return 'losangelesrams'\n",
    "    if 'washingtonfootballteam' in t or 'washingtonredskins' in t:\n",
    "        return 'washingtoncommanders'\n",
    "    return t\n",
    "    \n",
    "def list_diff(df_big, df_small):\n",
    "    all_teams = set(list(df_big['Tm']))\n",
    "    team_names = set(list(df_small['Name']))\n",
    "    return all_teams - team_names\n",
    "\n",
    "def proc_all(season, df_season, df_teams, df_records):\n",
    "    df_season = df_season[df_season['year'] == season]\n",
    "    df_season = df_season.reset_index(drop=True)\n",
    "    df_season['rank'] = ((df_season.index.values) % 4) + 1\n",
    "    df_season_filtered = df_season[df_season['Tm'].str.contains(\"AFC|NFC\") == False].drop(columns=['T'])\n",
    "    df_season_copy = df_season_filtered.copy()\n",
    "    df_season_proc = proc_season_val(df_season_copy, df_season_filtered)\n",
    "    df_teams['Name'] = df_teams['Name'].apply(proc_team_name)\n",
    "    df_season_proc['Tm'] = df_season_proc['Tm'].apply(proc_team_name).apply(fix_team_names)\n",
    "    df_season_merged = pd.merge(df_season_proc, df_teams, left_on='Tm', right_on='Name')\n",
    "    df_season_merged.drop(columns=['Tm', 'Name'], inplace=True)\n",
    "    df_season_all_pro = pd.merge(df_season_merged, all_pros_per_year_per_team(df_allpro), left_on=['Alias', 'year'], right_on=['Tm', 'year'], how='left')\n",
    "    df_season_all_pro['counts'] = df_season_all_pro['counts'].fillna(0)\n",
    "    df_records['team'] = df_records['team'].str.upper()\n",
    "    df_season_all_pro_records = pd.merge(df_season_all_pro, df_records, left_on=['Alias', 'year'], right_on=['team', 'year'], how='left')\n",
    "    return df_season_all_pro_records.dropna(subset=['record'])\n",
    "\n",
    "def get_per_season(season, df_proc):\n",
    "    df_s = df_proc[df_proc['year'] == season]\n",
    "    df_s_c = df_s.reset_index()\n",
    "    df_s_c['rank'] = ((df_s_c.index.values) % 16) + 1\n",
    "    return df_s_c"
   ]
  },
  {
   "cell_type": "code",
   "execution_count": 3,
   "id": "fe16fd4c-7ca8-4a7d-b510-8da9a160929a",
   "metadata": {},
   "outputs": [],
   "source": [
    "def create_file(name, season):\n",
    "    res = proc_all(season, df_season, df_teams, df_records)\n",
    "    res.to_csv(name + '.csv', index=False)"
   ]
  },
  {
   "cell_type": "code",
   "execution_count": 4,
   "id": "7dd174b8-1d6f-41cf-ba78-6668e7c29c46",
   "metadata": {},
   "outputs": [],
   "source": [
    "df_season = pd.read_csv('seasons_2000_2022.csv')\n",
    "df_mvp = pd.read_csv('nfl_mvp.csv')\n",
    "df_allpro = pd.read_csv('probowl_2000_2022.csv')\n",
    "df_teams = pd.read_csv('teams.csv')\n",
    "df_records = pd.read_csv('team_records_playoffs_inc_2020_2021.csv')"
   ]
  },
  {
   "cell_type": "code",
   "execution_count": 5,
   "id": "08ab2b29-d3ef-4174-963f-9a0847ba72e5",
   "metadata": {},
   "outputs": [],
   "source": [
    "create_file('2021_data', 2021)"
   ]
  },
  {
   "cell_type": "code",
   "execution_count": null,
   "id": "92252049-074b-4aeb-b6ca-7d8769ab1ec7",
   "metadata": {},
   "outputs": [],
   "source": []
  },
  {
   "cell_type": "code",
   "execution_count": null,
   "id": "c0692fb1-bc32-4668-9fd6-4c4cb99a14ed",
   "metadata": {},
   "outputs": [],
   "source": []
  }
 ],
 "metadata": {
  "kernelspec": {
   "display_name": "Python 3 (ipykernel)",
   "language": "python",
   "name": "python3"
  },
  "language_info": {
   "codemirror_mode": {
    "name": "ipython",
    "version": 3
   },
   "file_extension": ".py",
   "mimetype": "text/x-python",
   "name": "python",
   "nbconvert_exporter": "python",
   "pygments_lexer": "ipython3",
   "version": "3.10.6"
  }
 },
 "nbformat": 4,
 "nbformat_minor": 5
}
