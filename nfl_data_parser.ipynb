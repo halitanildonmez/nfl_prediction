{
 "cells": [
  {
   "cell_type": "code",
   "execution_count": 1,
   "id": "a2ad1ee6-1802-4423-bd18-c61f0d598881",
   "metadata": {},
   "outputs": [],
   "source": [
    "import time as t\n",
    "import numpy as np\n",
    "import pandas as pd"
   ]
  },
  {
   "cell_type": "code",
   "execution_count": 2,
   "id": "969cc60b-5972-4859-8e16-2cba57be209f",
   "metadata": {},
   "outputs": [],
   "source": [
    "import aiohttp\n",
    "import asyncio"
   ]
  },
  {
   "cell_type": "code",
   "execution_count": 79,
   "id": "f03dd65a-b4a9-4b7a-ac45-5d68222e370c",
   "metadata": {},
   "outputs": [],
   "source": [
    "ALL_PRO_URL = 'https://www.pro-football-reference.com/years/{year}/allpro.htm'\n",
    "PRO_BOWLERS = 'https://www.pro-football-reference.com/years/{year}/probowl.htm'\n",
    "SEASON_LINK = 'https://www.pro-football-reference.com/years/{year}'\n",
    "TEAM_LINK = 'https://www.pro-football-reference.com/teams/{team}/{year}.htm'"
   ]
  },
  {
   "cell_type": "code",
   "execution_count": 4,
   "id": "f2ab2248-eaee-41fc-a52a-089a20d70374",
   "metadata": {},
   "outputs": [],
   "source": [
    "def request_data(url: str, sleep_time_sec: float = 5.0):\n",
    "    t.sleep(sleep_time_sec)\n",
    "    data = pd.read_html(url)\n",
    "    assert len(data) > 0\n",
    "    return data[0]\n",
    "\n",
    "def request_data_raw(url: str, sleep_time_sec: float = 5.0):\n",
    "    t.sleep(sleep_time_sec)\n",
    "    data = pd.read_html(url)\n",
    "    assert len(data) > 0\n",
    "    return data\n",
    "\n",
    "def get_pro_bowlers(min_year, max_year):\n",
    "    res = pd.DataFrame()\n",
    "    for i in range(min_year, max_year):\n",
    "        df = request_data(PRO_BOWLERS.format(year=i))\n",
    "        df['year'] = i\n",
    "        res = pd.concat([res, df], ignore_index=True)\n",
    "    return res\n",
    "\n",
    "def get_from_link(link, min_year, max_year):\n",
    "    res = pd.DataFrame()\n",
    "    for i in range(min_year, max_year):\n",
    "        df = request_data(link.format(year=i))\n",
    "        df['year'] = i\n",
    "        res = pd.concat([res, df], ignore_index=True)\n",
    "    return res\n",
    "\n",
    "def get_season_standings(link, min_year, max_year):\n",
    "    res = pd.DataFrame()\n",
    "    for i in range(min_year, max_year):\n",
    "        raw_data = request_data_raw(link.format(year=i))\n",
    "        df_afc, df_nfc = raw_data[0], raw_data[1]\n",
    "        df_afc['year'] = i\n",
    "        df_nfc['year'] = i\n",
    "        df = pd.concat([df_afc, df_nfc], ignore_index=True)\n",
    "        res = pd.concat([res, df], ignore_index=True)\n",
    "    return res"
   ]
  },
  {
   "cell_type": "code",
   "execution_count": 5,
   "id": "0a4a85eb-d39b-437d-8a15-afa10a76be35",
   "metadata": {},
   "outputs": [],
   "source": [
    "def get_allpro_save():\n",
    "    df_allpro = get_pro_bowlers(2000, 2022)\n",
    "    df_allpro.to_csv('probowl_2000_2022.csv', index=False)\n",
    "    return\n",
    "\n",
    "def get_seasons():\n",
    "    df_seasons = get_season_standings(SEASON_LINK, 2000, 2022)\n",
    "    df_seasons.to_csv('seasons_2000_2022.csv', index=False)\n",
    "    return"
   ]
  },
  {
   "cell_type": "code",
   "execution_count": 6,
   "id": "53371117-caf1-4289-94d3-a0291e7dd5e5",
   "metadata": {},
   "outputs": [],
   "source": [
    "df_teams = pd.read_csv('teams.csv')"
   ]
  },
  {
   "cell_type": "code",
   "execution_count": 71,
   "id": "c9e34ebb-9d2d-4a5a-9305-c756041d6ecb",
   "metadata": {},
   "outputs": [],
   "source": [
    "def get_data(data_frame):\n",
    "    try:\n",
    "        df_series = data_frame[1]\n",
    "        recs = df_series.iloc[:, 7]\n",
    "        last_elem = recs.iloc[-1]\n",
    "        les = str(last_elem)\n",
    "        lsrs = les.split('-')\n",
    "        record = int(lsrs[0])\n",
    "        return record / 21.0\n",
    "    except Exception as e:\n",
    "        print('error', e)\n",
    "        return 0.0\n",
    "def get_team_records_with_playoffs(min_year=2020, max_year=2022, sleep_sec=2.0, verbose=False):\n",
    "    df_records = pd.DataFrame({'year': [], 'team': [], 'record': []})\n",
    "    df_teams = pd.read_csv('teams.csv')\n",
    "    for team in df_teams['Alias']:\n",
    "        for year in range(min_year, max_year):\n",
    "            t.sleep(sleep_sec)\n",
    "            gen_l = TEAM_LINK.format(team=team.lower(), year=year)\n",
    "            data = pd.read_html(gen_l)\n",
    "            record = get_data(data)\n",
    "            new_row = {'year': year, 'team': team.lower(), 'record': record}\n",
    "            if verbose:\n",
    "                print('will add ', new_row) \n",
    "            df_records.loc[len(df_records)] = new_row"
   ]
  },
  {
   "cell_type": "code",
   "execution_count": 73,
   "id": "e3ae3ba0-2a7a-4bf3-ab9c-07f1729ae058",
   "metadata": {},
   "outputs": [],
   "source": [
    "df_records = pd.DataFrame({'year': [], 'team': [], 'record': []})"
   ]
  },
  {
   "cell_type": "code",
   "execution_count": 75,
   "id": "ed9bd07a-204f-4c16-a36e-30dc8a8b72fc",
   "metadata": {},
   "outputs": [
    {
     "name": "stdout",
     "output_type": "stream",
     "text": [
      "will add  {'year': 2020, 'team': 'crd', 'record': 0.38095238095238093}\n",
      "will add  {'year': 2021, 'team': 'crd', 'record': 0.5238095238095238}\n",
      "will add  {'year': 2020, 'team': 'atl', 'record': 0.19047619047619047}\n",
      "will add  {'year': 2021, 'team': 'atl', 'record': 0.3333333333333333}\n",
      "will add  {'year': 2020, 'team': 'rav', 'record': 0.5714285714285714}\n",
      "will add  {'year': 2021, 'team': 'rav', 'record': 0.38095238095238093}\n",
      "will add  {'year': 2020, 'team': 'buf', 'record': 0.7142857142857143}\n",
      "will add  {'year': 2021, 'team': 'buf', 'record': 0.5714285714285714}\n",
      "will add  {'year': 2020, 'team': 'car', 'record': 0.23809523809523808}\n",
      "will add  {'year': 2021, 'team': 'car', 'record': 0.23809523809523808}\n",
      "will add  {'year': 2020, 'team': 'chi', 'record': 0.38095238095238093}\n",
      "will add  {'year': 2021, 'team': 'chi', 'record': 0.2857142857142857}\n",
      "will add  {'year': 2020, 'team': 'cin', 'record': 0.19047619047619047}\n",
      "will add  {'year': 2021, 'team': 'cin', 'record': 0.6190476190476191}\n",
      "will add  {'year': 2020, 'team': 'cle', 'record': 0.5714285714285714}\n",
      "will add  {'year': 2021, 'team': 'cle', 'record': 0.38095238095238093}\n",
      "will add  {'year': 2020, 'team': 'dal', 'record': 0.2857142857142857}\n",
      "will add  {'year': 2021, 'team': 'dal', 'record': 0.5714285714285714}\n",
      "will add  {'year': 2020, 'team': 'den', 'record': 0.23809523809523808}\n",
      "will add  {'year': 2021, 'team': 'den', 'record': 0.3333333333333333}\n",
      "will add  {'year': 2020, 'team': 'det', 'record': 0.23809523809523808}\n",
      "will add  {'year': 2021, 'team': 'det', 'record': 0.14285714285714285}\n",
      "will add  {'year': 2020, 'team': 'gnb', 'record': 0.6666666666666666}\n",
      "will add  {'year': 2021, 'team': 'gnb', 'record': 0.6190476190476191}\n",
      "will add  {'year': 2020, 'team': 'htx', 'record': 0.19047619047619047}\n",
      "will add  {'year': 2021, 'team': 'htx', 'record': 0.19047619047619047}\n",
      "will add  {'year': 2020, 'team': 'clt', 'record': 0.5238095238095238}\n",
      "will add  {'year': 2021, 'team': 'clt', 'record': 0.42857142857142855}\n",
      "will add  {'year': 2020, 'team': 'jax', 'record': 0.047619047619047616}\n",
      "will add  {'year': 2021, 'team': 'jax', 'record': 0.14285714285714285}\n",
      "will add  {'year': 2020, 'team': 'kan', 'record': 0.7619047619047619}\n",
      "will add  {'year': 2021, 'team': 'kan', 'record': 0.6666666666666666}\n",
      "will add  {'year': 2020, 'team': 'rai', 'record': 0.38095238095238093}\n",
      "will add  {'year': 2021, 'team': 'rai', 'record': 0.47619047619047616}\n",
      "will add  {'year': 2020, 'team': 'sdg', 'record': 0.3333333333333333}\n",
      "will add  {'year': 2021, 'team': 'sdg', 'record': 0.42857142857142855}\n",
      "will add  {'year': 2020, 'team': 'ram', 'record': 0.5238095238095238}\n",
      "will add  {'year': 2021, 'team': 'ram', 'record': 0.7619047619047619}\n",
      "will add  {'year': 2020, 'team': 'mia', 'record': 0.47619047619047616}\n",
      "will add  {'year': 2021, 'team': 'mia', 'record': 0.42857142857142855}\n",
      "will add  {'year': 2020, 'team': 'min', 'record': 0.3333333333333333}\n",
      "will add  {'year': 2021, 'team': 'min', 'record': 0.38095238095238093}\n",
      "will add  {'year': 2020, 'team': 'nwe', 'record': 0.3333333333333333}\n",
      "will add  {'year': 2021, 'team': 'nwe', 'record': 0.47619047619047616}\n",
      "will add  {'year': 2020, 'team': 'nor', 'record': 0.6190476190476191}\n",
      "will add  {'year': 2021, 'team': 'nor', 'record': 0.42857142857142855}\n",
      "will add  {'year': 2020, 'team': 'nyg', 'record': 0.2857142857142857}\n",
      "will add  {'year': 2021, 'team': 'nyg', 'record': 0.19047619047619047}\n",
      "will add  {'year': 2020, 'team': 'nyj', 'record': 0.09523809523809523}\n",
      "will add  {'year': 2021, 'team': 'nyj', 'record': 0.19047619047619047}\n",
      "will add  {'year': 2020, 'team': 'phi', 'record': 0.19047619047619047}\n",
      "will add  {'year': 2021, 'team': 'phi', 'record': 0.42857142857142855}\n",
      "will add  {'year': 2020, 'team': 'pit', 'record': 0.5714285714285714}\n",
      "will add  {'year': 2021, 'team': 'pit', 'record': 0.42857142857142855}\n",
      "will add  {'year': 2020, 'team': 'sfo', 'record': 0.2857142857142857}\n",
      "will add  {'year': 2021, 'team': 'sfo', 'record': 0.5714285714285714}\n",
      "will add  {'year': 2020, 'team': 'sea', 'record': 0.5714285714285714}\n",
      "will add  {'year': 2021, 'team': 'sea', 'record': 0.3333333333333333}\n",
      "will add  {'year': 2020, 'team': 'tam', 'record': 0.7142857142857143}\n",
      "will add  {'year': 2021, 'team': 'tam', 'record': 0.6666666666666666}\n",
      "will add  {'year': 2020, 'team': 'oti', 'record': 0.5238095238095238}\n",
      "will add  {'year': 2021, 'team': 'oti', 'record': 0.5714285714285714}\n",
      "will add  {'year': 2020, 'team': 'was', 'record': 0.3333333333333333}\n",
      "will add  {'year': 2021, 'team': 'was', 'record': 0.3333333333333333}\n"
     ]
    }
   ],
   "source": [
    "for team in df_teams['Alias']:\n",
    "    for year in range(2020, 2022):\n",
    "        t.sleep(2.0)\n",
    "        gen_l = 'https://www.pro-football-reference.com/teams/{team}/{year}.htm'.format(team=team.lower(), year=year)\n",
    "        data = pd.read_html(gen_l)\n",
    "        record = get_data(data)\n",
    "        new_row = {'year': year, 'team': team.lower(), 'record': record}\n",
    "        print('will add ', new_row) \n",
    "        df_records.loc[len(df_records)] = new_row"
   ]
  },
  {
   "cell_type": "code",
   "execution_count": 72,
   "id": "ff7ccb05-357e-4b73-b417-cd5645c040e3",
   "metadata": {},
   "outputs": [],
   "source": [
    "#ll = 'https://www.pro-football-reference.com/teams/ram/2021.htm'\n",
    "#abc = pd.read_html(ll)"
   ]
  },
  {
   "cell_type": "code",
   "execution_count": 78,
   "id": "a9320dcc-5661-458c-93a1-46cb04722abc",
   "metadata": {},
   "outputs": [],
   "source": [
    "df_records.to_csv('team_records_playoffs_inc_2020_2021.csv', index=False)"
   ]
  },
  {
   "cell_type": "markdown",
   "id": "4701a5c4-6457-4f91-b8dc-ff28cbb7f305",
   "metadata": {},
   "source": [
    "Value = Champion Share Score = Win/Max(Win)"
   ]
  }
 ],
 "metadata": {
  "kernelspec": {
   "display_name": "Python 3 (ipykernel)",
   "language": "python",
   "name": "python3"
  },
  "language_info": {
   "codemirror_mode": {
    "name": "ipython",
    "version": 3
   },
   "file_extension": ".py",
   "mimetype": "text/x-python",
   "name": "python",
   "nbconvert_exporter": "python",
   "pygments_lexer": "ipython3",
   "version": "3.10.6"
  }
 },
 "nbformat": 4,
 "nbformat_minor": 5
}
